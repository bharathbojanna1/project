{
 "cells": [
  {
   "cell_type": "code",
   "execution_count": null,
   "metadata": {},
   "outputs": [],
   "source": [
    "import whisper\n",
    "import numpy as np\n",
    "import sounddevice as sd\n",
    "import queue\n",
    "import time\n",
    "import os"
   ]
  },
  {
   "cell_type": "code",
   "execution_count": null,
   "metadata": {},
   "outputs": [],
   "source": [
    "model = whisper.load_model(\"base\") # we can also use 'tiny'\n",
    "\n",
    "\n",
    "q = queue.Queue()"
   ]
  },
  {
   "cell_type": "code",
   "execution_count": null,
   "metadata": {},
   "outputs": [],
   "source": [
    "def callback(indata, frames, time, status):\n",
    "    if status:\n",
    "        print(status)\n",
    "    q.put(indata.copy())"
   ]
  },
  {
   "cell_type": "code",
   "execution_count": null,
   "metadata": {},
   "outputs": [],
   "source": [
    "samplerate = 16000  # Whisper expects 16kHz audio\n",
    "blocksize = 4000\n",
    "max_recording_time = 30  # Max recording duration in seconds\n",
    "buffer = []\n",
    "output_file = \"transcription.txt\""
   ]
  },
  {
   "cell_type": "code",
   "execution_count": null,
   "metadata": {},
   "outputs": [],
   "source": [
    "# Determine the last used ID if the file exists\n",
    "if os.path.exists(output_file):\n",
    "    with open(output_file, \"r\") as f:\n",
    "        lines = f.readlines()\n",
    "        last_id = 0\n",
    "        for line in lines:\n",
    "            if line.strip().startswith(\"ID:\"):\n",
    "                try:\n",
    "                    last_id = int(line.strip().split(\":\")[1])\n",
    "                except ValueError:\n",
    "                    continue\n",
    "else:\n",
    "    last_id = 0  # Start with ID 1 if the file does not exist"
   ]
  },
  {
   "cell_type": "code",
   "execution_count": null,
   "metadata": {},
   "outputs": [],
   "source": [
    "print(\"🎙️ Start Speaking... (Recording for 30 seconds)\")\n",
    "\n"
   ]
  },
  {
   "cell_type": "code",
   "execution_count": null,
   "metadata": {},
   "outputs": [],
   "source": [
    "start_time = time.time()\n",
    "with sd.InputStream(samplerate=samplerate, channels=1, dtype=\"int16\", callback=callback):\n",
    "    while time.time() - start_time < max_recording_time:  \n",
    "        audio_data = q.get()\n",
    "        buffer.append(audio_data)"
   ]
  },
  {
   "cell_type": "code",
   "execution_count": null,
   "metadata": {},
   "outputs": [],
   "source": [
    "audio_data = np.concatenate(buffer, axis=0)\n",
    "audio_data = np.frombuffer(audio_data, dtype=np.int16).astype(np.float32) / 32768.0"
   ]
  },
  {
   "cell_type": "code",
   "execution_count": null,
   "metadata": {},
   "outputs": [],
   "source": [
    "result = model.transcribe(audio_data, fp16=False)\n",
    "transcript_text = result[\"text\"]"
   ]
  },
  {
   "cell_type": "code",
   "execution_count": null,
   "metadata": {},
   "outputs": [],
   "source": [
    "last_id += 1\n",
    "entry = f\"ID: {last_id}\\n{transcript_text}\\n\\n\""
   ]
  },
  {
   "cell_type": "code",
   "execution_count": null,
   "metadata": {},
   "outputs": [],
   "source": [
    "print(\"\\n📝 Transcription:\\n\" + entry)"
   ]
  },
  {
   "cell_type": "code",
   "execution_count": null,
   "metadata": {},
   "outputs": [],
   "source": [
    "with open(output_file, \"a\") as f:\n",
    "    f.write(entry)\n",
    "\n",
    "print(\"✅ Transcription saved to 'transcription.txt'. Program terminated.\")"
   ]
  },
  {
   "cell_type": "markdown",
   "metadata": {},
   "source": [
    "A text file named as transcription will be generated.\n",
    "The text file contains ID's of all the texts which are generated from speeches  till now are appended.\n",
    "if we want to give input to the model just extract the last ID's text\n",
    "this text dataset will also be useful for further if we require to train the own model."
   ]
  }
 ],
 "metadata": {
  "kernelspec": {
   "display_name": "vetenv",
   "language": "python",
   "name": "python3"
  },
  "language_info": {
   "codemirror_mode": {
    "name": "ipython",
    "version": 3
   },
   "file_extension": ".py",
   "mimetype": "text/x-python",
   "name": "python",
   "nbconvert_exporter": "python",
   "pygments_lexer": "ipython3",
   "version": "3.11.5"
  }
 },
 "nbformat": 4,
 "nbformat_minor": 2
}
